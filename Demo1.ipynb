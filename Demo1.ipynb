{
  "nbformat": 4,
  "nbformat_minor": 0,
  "metadata": {
    "colab": {
      "name": "Demo1.ipynb",
      "provenance": [],
      "authorship_tag": "ABX9TyM6ERntxHrL2aodQCGV+z82",
      "include_colab_link": true
    },
    "kernelspec": {
      "name": "python3",
      "display_name": "Python 3"
    },
    "language_info": {
      "name": "python"
    }
  },
  "cells": [
    {
      "cell_type": "markdown",
      "metadata": {
        "id": "view-in-github",
        "colab_type": "text"
      },
      "source": [
        "<a href=\"https://colab.research.google.com/github/markjereminpoblete/CPEN-21A-CPE-1-2/blob/main/Demo1.ipynb\" target=\"_parent\"><img src=\"https://colab.research.google.com/assets/colab-badge.svg\" alt=\"Open In Colab\"/></a>"
      ]
    },
    {
      "cell_type": "markdown",
      "metadata": {
        "id": "rFyaLIcf3qF2"
      },
      "source": [
        "##Introduction to Python"
      ]
    },
    {
      "cell_type": "code",
      "metadata": {
        "colab": {
          "base_uri": "https://localhost:8080/"
        },
        "id": "OVx90Fvt3wfC",
        "outputId": "aa486f14-1448-4848-92c3-a7aed6bb4809"
      },
      "source": [
        "#Python Indention\n",
        "if 5>2:\n",
        "  print (\"Five is greater than two\")"
      ],
      "execution_count": 1,
      "outputs": [
        {
          "output_type": "stream",
          "name": "stdout",
          "text": [
            "Five is greater than two\n"
          ]
        }
      ]
    },
    {
      "cell_type": "code",
      "metadata": {
        "colab": {
          "base_uri": "https://localhost:8080/"
        },
        "id": "sA4PlPUy55mo",
        "outputId": "67c601a9-2270-4171-dc26-a0be33d9dff2"
      },
      "source": [
        "x=1     #Single Variable with single value\n",
        "x,y=1,2 #Two variables with two different values\n",
        "x,y,z=1,2,3 #Three variables with three different values\n",
        "print(x)\n",
        "print(y)\n",
        "print(z)"
      ],
      "execution_count": 23,
      "outputs": [
        {
          "output_type": "stream",
          "name": "stdout",
          "text": [
            "1\n",
            "2\n",
            "3\n"
          ]
        }
      ]
    },
    {
      "cell_type": "code",
      "metadata": {
        "colab": {
          "base_uri": "https://localhost:8080/",
          "height": 35
        },
        "id": "Jr24eaO16j89",
        "outputId": "225ab335-ca10-4f7f-d9c1-5ea25929920e"
      },
      "source": [
        "x,y=\"four\",2\n",
        "x\n",
        "y\n",
        "x"
      ],
      "execution_count": 6,
      "outputs": [
        {
          "output_type": "execute_result",
          "data": {
            "application/vnd.google.colaboratory.intrinsic+json": {
              "type": "string"
            },
            "text/plain": [
              "'four'"
            ]
          },
          "metadata": {},
          "execution_count": 6
        }
      ]
    },
    {
      "cell_type": "markdown",
      "metadata": {
        "id": "kQDmtytB6-LN"
      },
      "source": [
        "###Casting"
      ]
    },
    {
      "cell_type": "code",
      "metadata": {
        "colab": {
          "base_uri": "https://localhost:8080/"
        },
        "id": "kOZlbZ-H7Brm",
        "outputId": "d728ee7a-9e06-44d6-88fa-7bbdb43e81db"
      },
      "source": [
        "b = int(4)\n",
        "b\n",
        "c = float(4)\n",
        "c"
      ],
      "execution_count": 10,
      "outputs": [
        {
          "output_type": "execute_result",
          "data": {
            "text/plain": [
              "4.0"
            ]
          },
          "metadata": {},
          "execution_count": 10
        }
      ]
    },
    {
      "cell_type": "markdown",
      "metadata": {
        "id": "XXCjDUyU7Wol"
      },
      "source": [
        "###Type Function"
      ]
    },
    {
      "cell_type": "code",
      "metadata": {
        "colab": {
          "base_uri": "https://localhost:8080/"
        },
        "id": "1JRF-MDA7ZJc",
        "outputId": "c3210a62-5180-4ff9-f1b5-abe2bf9b29ad"
      },
      "source": [
        "x = 5\n",
        "y = 'John'\n",
        "h = \"ana\"\n",
        "H = \"Ana\"\n",
        "print(type(x))\n",
        "print(type(y))\n",
        "print(h)\n",
        "print(H)"
      ],
      "execution_count": 18,
      "outputs": [
        {
          "output_type": "stream",
          "name": "stdout",
          "text": [
            "<class 'int'>\n",
            "<class 'str'>\n",
            "ana\n",
            "Ana\n"
          ]
        }
      ]
    },
    {
      "cell_type": "markdown",
      "metadata": {
        "id": "6Vyko4Lf8V4N"
      },
      "source": [
        "###One Value to Multiple Variables"
      ]
    },
    {
      "cell_type": "code",
      "metadata": {
        "colab": {
          "base_uri": "https://localhost:8080/"
        },
        "id": "IxHoxS4e8YoP",
        "outputId": "74aa95cd-7b09-4fd1-9502-5e933dd8cadf"
      },
      "source": [
        "x = y = z = 'four'\n",
        "print(x)\n",
        "print(y)\n",
        "print(z)"
      ],
      "execution_count": 22,
      "outputs": [
        {
          "output_type": "stream",
          "name": "stdout",
          "text": [
            "four\n",
            "four\n",
            "four\n"
          ]
        }
      ]
    },
    {
      "cell_type": "code",
      "metadata": {
        "colab": {
          "base_uri": "https://localhost:8080/"
        },
        "id": "iTkO1ZTo83U3",
        "outputId": "9f333d9c-e273-4f4b-8e59-3596d422574c"
      },
      "source": [
        "x = 'enjoying'\n",
        "print(\"Python programming is\"\" \" + x)"
      ],
      "execution_count": 29,
      "outputs": [
        {
          "output_type": "stream",
          "name": "stdout",
          "text": [
            "Python programming is enjoying\n"
          ]
        }
      ]
    },
    {
      "cell_type": "code",
      "metadata": {
        "colab": {
          "base_uri": "https://localhost:8080/"
        },
        "id": "Ct7Dfsr09T-T",
        "outputId": "17a3bd85-62dd-45d3-8a19-d54624ccea26"
      },
      "source": [
        "x=11\n",
        "y=12\n",
        "z=13\n",
        "print(x+y+z)"
      ],
      "execution_count": 31,
      "outputs": [
        {
          "output_type": "stream",
          "name": "stdout",
          "text": [
            "36\n"
          ]
        }
      ]
    },
    {
      "cell_type": "code",
      "metadata": {
        "colab": {
          "base_uri": "https://localhost:8080/"
        },
        "id": "G7T__LmS9jCi",
        "outputId": "89d83da6-ff6e-4fd0-b7c9-0fd167894cc2"
      },
      "source": [
        "x+=3 #Same as x = x+3\n",
        "print(x)"
      ],
      "execution_count": 32,
      "outputs": [
        {
          "output_type": "stream",
          "name": "stdout",
          "text": [
            "14\n"
          ]
        }
      ]
    },
    {
      "cell_type": "code",
      "metadata": {
        "colab": {
          "base_uri": "https://localhost:8080/"
        },
        "id": "E_bdw2e2-Ymr",
        "outputId": "0d610e7a-d0b6-4184-f71b-0bb420d0d3da"
      },
      "source": [
        "y+=5\n",
        "print(y)"
      ],
      "execution_count": 36,
      "outputs": [
        {
          "output_type": "stream",
          "name": "stdout",
          "text": [
            "17\n"
          ]
        }
      ]
    },
    {
      "cell_type": "code",
      "metadata": {
        "colab": {
          "base_uri": "https://localhost:8080/"
        },
        "id": "MLcx4B_79_pL",
        "outputId": "b011069f-8d90-4e57-90cd-d1900e1982cc"
      },
      "source": [
        "x<y and x!=x"
      ],
      "execution_count": 41,
      "outputs": [
        {
          "output_type": "execute_result",
          "data": {
            "text/plain": [
              "False"
            ]
          },
          "metadata": {},
          "execution_count": 41
        }
      ]
    },
    {
      "cell_type": "code",
      "metadata": {
        "colab": {
          "base_uri": "https://localhost:8080/"
        },
        "id": "IplZtdqS_DUx",
        "outputId": "5ab98960-ac28-437c-8f6f-75139d0628b3"
      },
      "source": [
        "x>y or not (y==z)"
      ],
      "execution_count": 47,
      "outputs": [
        {
          "output_type": "execute_result",
          "data": {
            "text/plain": [
              "True"
            ]
          },
          "metadata": {},
          "execution_count": 47
        }
      ]
    },
    {
      "cell_type": "code",
      "metadata": {
        "colab": {
          "base_uri": "https://localhost:8080/"
        },
        "id": "XhBPFTYE_Qep",
        "outputId": "089efe4e-b713-417f-d6fa-f9956ef5dbac"
      },
      "source": [
        "not(print(x>y))"
      ],
      "execution_count": 46,
      "outputs": [
        {
          "output_type": "stream",
          "name": "stdout",
          "text": [
            "False\n"
          ]
        },
        {
          "output_type": "execute_result",
          "data": {
            "text/plain": [
              "True"
            ]
          },
          "metadata": {},
          "execution_count": 46
        }
      ]
    },
    {
      "cell_type": "code",
      "metadata": {
        "colab": {
          "base_uri": "https://localhost:8080/"
        },
        "id": "QlEKobwa_sFB",
        "outputId": "f406c260-1bb9-43dc-af55-bd9fcff57e15"
      },
      "source": [
        "#Identity operations\n",
        "print(x is y)\n",
        "print(x is not z)"
      ],
      "execution_count": 49,
      "outputs": [
        {
          "output_type": "stream",
          "name": "stdout",
          "text": [
            "False\n",
            "True\n"
          ]
        }
      ]
    }
  ]
}