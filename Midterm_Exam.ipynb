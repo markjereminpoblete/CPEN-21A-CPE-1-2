{
  "nbformat": 4,
  "nbformat_minor": 0,
  "metadata": {
    "colab": {
      "name": "Midterm Exam.ipynb",
      "provenance": [],
      "authorship_tag": "ABX9TyMSOLEWF7P+fel+pbWa2ZZ7",
      "include_colab_link": true
    },
    "kernelspec": {
      "name": "python3",
      "display_name": "Python 3"
    },
    "language_info": {
      "name": "python"
    }
  },
  "cells": [
    {
      "cell_type": "markdown",
      "metadata": {
        "id": "view-in-github",
        "colab_type": "text"
      },
      "source": [
        "<a href=\"https://colab.research.google.com/github/markjereminpoblete/CPEN-21A-CPE-1-2/blob/main/Midterm_Exam.ipynb\" target=\"_parent\"><img src=\"https://colab.research.google.com/assets/colab-badge.svg\" alt=\"Open In Colab\"/></a>"
      ]
    },
    {
      "cell_type": "markdown",
      "metadata": {
        "id": "Q1bw38JEB5Fc"
      },
      "source": [
        "#Midterm Exam"
      ]
    },
    {
      "cell_type": "markdown",
      "metadata": {
        "id": "vAeshifxM9iQ"
      },
      "source": [
        "###Problem Statement 1"
      ]
    },
    {
      "cell_type": "code",
      "metadata": {
        "colab": {
          "base_uri": "https://localhost:8080/"
        },
        "id": "EwH0QcC9CDfK",
        "outputId": "9170eb17-7458-4b6e-814c-b874356aa382"
      },
      "source": [
        "name = \"Mark Jeremin C. Poblete\"\n",
        "stunum = \"202101927\"\n",
        "age = \"18\"\n",
        "bday = \"June 4, 2003\"\n",
        "add = \"433 F. Dulce St. Pinatipunan, City of General Trias, Cavite\"\n",
        "course = \"Bachelor of Science in Computer Engineering\"\n",
        "\n",
        "print(\"Full Name: \" +(name))\n",
        "print(\"Student Number: \" +(stunum))\n",
        "print(\"Age: \" +(age))\n",
        "print(\"Birthdate: \" +(bday))\n",
        "print(\"Address: \" +(add))\n",
        "print(\"Course: \"+(course))"
      ],
      "execution_count": 74,
      "outputs": [
        {
          "output_type": "stream",
          "name": "stdout",
          "text": [
            "Full Name: Mark Jeremin C. Poblete\n",
            "Student Number: 202101927\n",
            "Age: 18\n",
            "Birthdate: June 4, 2003\n",
            "Address: 433 F. Dulce St. Pinatipunan, City of General Trias, Cavite\n",
            "Course: Bachelor of Science in Computer Engineering\n"
          ]
        }
      ]
    },
    {
      "cell_type": "markdown",
      "metadata": {
        "id": "RqzEYmpKNFZO"
      },
      "source": [
        "###Problem Statement 2"
      ]
    },
    {
      "cell_type": "code",
      "metadata": {
        "colab": {
          "base_uri": "https://localhost:8080/"
        },
        "id": "zE_wsuj4DJH0",
        "outputId": "1a032aec-4612-49fa-a933-42f6cefb8e36"
      },
      "source": [
        "n = 4\n",
        "answ = \"Y\"\n",
        "\n",
        "print(2<n) and (n<6)                        #Condition a\n",
        "print((2<n) or (n==6))                      #Condition b\n",
        "print(not(2<n)or (n==6))                    #Condition c\n",
        "print(not(n<6))                             #Condition d\n",
        "print(answ==\"Y\" or answ==\"y\")               #Condition e\n",
        "print(answ==\"Y\" and answ==\"y\")              #Condition f\n",
        "print(not(answ==\"y\"))                       #Condition g\n",
        "print((2<n) and (n==5+1) or answ==\"No\")     #Condition h\n",
        "print((n==2) and (n==7) or answ==\"Y\")       #Condition i\n",
        "print(n==2) and ((n==7) or (answ==\"Y\"))     #Condition j"
      ],
      "execution_count": 36,
      "outputs": [
        {
          "output_type": "stream",
          "name": "stdout",
          "text": [
            "True\n",
            "True\n",
            "False\n",
            "False\n",
            "True\n",
            "False\n",
            "True\n",
            "False\n",
            "True\n",
            "False\n"
          ]
        }
      ]
    },
    {
      "cell_type": "markdown",
      "metadata": {
        "id": "8syK7uRbNSfZ"
      },
      "source": [
        "###Problem Statement 3"
      ]
    },
    {
      "cell_type": "code",
      "metadata": {
        "colab": {
          "base_uri": "https://localhost:8080/"
        },
        "id": "AA8PjEcfIcwI",
        "outputId": "5e230984-4d24-412c-e5cd-90854cbe06f0"
      },
      "source": [
        "x,y,w,z = 2,-3,7,-10\n",
        "\n",
        "print(x/y)\n",
        "print(w/y/x)\n",
        "print(z/y%x)\n",
        "print(x%-y*w)\n",
        "print(x%y)\n",
        "print(z%w-y/x*5+5)\n",
        "print(9-x%(2+y))\n",
        "print(z//w)\n",
        "print((2+y)**2)\n",
        "print(w/x*2)\n",
        "\n"
      ],
      "execution_count": 68,
      "outputs": [
        {
          "output_type": "stream",
          "name": "stdout",
          "text": [
            "-0.6666666666666666\n",
            "-1.1666666666666667\n",
            "1.3333333333333335\n",
            "14\n",
            "-1\n",
            "16.5\n",
            "9\n",
            "-2\n",
            "1\n",
            "7.0\n"
          ]
        }
      ]
    }
  ]
}