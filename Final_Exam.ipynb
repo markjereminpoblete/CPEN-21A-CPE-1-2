{
  "nbformat": 4,
  "nbformat_minor": 0,
  "metadata": {
    "colab": {
      "name": "Final Exam.ipynb",
      "provenance": [],
      "authorship_tag": "ABX9TyNQR8YUEr9gWewA2Cu4hbfH",
      "include_colab_link": true
    },
    "kernelspec": {
      "name": "python3",
      "display_name": "Python 3"
    },
    "language_info": {
      "name": "python"
    }
  },
  "cells": [
    {
      "cell_type": "markdown",
      "metadata": {
        "id": "view-in-github",
        "colab_type": "text"
      },
      "source": [
        "<a href=\"https://colab.research.google.com/github/markjereminpoblete/CPEN-21A-CPE-1-2/blob/main/Final_Exam.ipynb\" target=\"_parent\"><img src=\"https://colab.research.google.com/assets/colab-badge.svg\" alt=\"Open In Colab\"/></a>"
      ]
    },
    {
      "cell_type": "markdown",
      "source": [
        "#Final Exam"
      ],
      "metadata": {
        "id": "rCobJ_0FVMzk"
      }
    },
    {
      "cell_type": "markdown",
      "source": [
        "####Problem Statement 1"
      ],
      "metadata": {
        "id": "_PmjJ1r49jPO"
      }
    },
    {
      "cell_type": "code",
      "source": [
        "numbers = [1, 2, 3, 4, 5, 0, -1, -2, -3, -4]     \n",
        "sum = 0    \n",
        "for x in numbers:   \n",
        "   sum = sum + numbers[x]    \n",
        "print(\"The sum of all the numbers is \" + str(sum)); "
      ],
      "metadata": {
        "colab": {
          "base_uri": "https://localhost:8080/"
        },
        "id": "yH24FsoPXtoK",
        "outputId": "b169a24e-8584-4481-af81-c8caa577723b"
      },
      "execution_count": 182,
      "outputs": [
        {
          "output_type": "stream",
          "name": "stdout",
          "text": [
            "The sum of all the numbers is 5\n"
          ]
        }
      ]
    },
    {
      "cell_type": "markdown",
      "source": [
        "####Problem Statement 2"
      ],
      "metadata": {
        "id": "Fggno-l_BkuQ"
      }
    },
    {
      "cell_type": "code",
      "source": [
        "num = [int(input()),int(input()),int(input()),int(input()),int(input())]\n",
        "while len(num):\n",
        "  sum = num[0]+num[4]\n",
        "  print(\"The sum of the first and last number is \"+str(sum))\n",
        "  break\n",
        "\n"
      ],
      "metadata": {
        "colab": {
          "base_uri": "https://localhost:8080/"
        },
        "id": "2VvTejnww8hW",
        "outputId": "6afe4fc8-4d3d-44ee-cac0-5430d01e73f4"
      },
      "execution_count": null,
      "outputs": [
        {
          "output_type": "stream",
          "name": "stdout",
          "text": [
            "9\n",
            "1\n",
            "1\n",
            "1\n",
            "9\n",
            "The sum of the first and last number is 18\n"
          ]
        }
      ]
    },
    {
      "cell_type": "markdown",
      "source": [
        "####Problem Statement 3"
      ],
      "metadata": {
        "id": "ue6bwl7XBon7"
      }
    },
    {
      "cell_type": "code",
      "source": [
        "x = float(input())\n",
        "if x >=60 and x<70:\n",
        "  print(\"D\")\n",
        "if x >=70 and x<80:\n",
        "  print(\"C\")\n",
        "if x >=80 and x<90:\n",
        "  print(\"B\")\n",
        "if x >=90:\n",
        "  print(\"A\")\n",
        "if x<60:\n",
        "  print(\"F\")"
      ],
      "metadata": {
        "colab": {
          "base_uri": "https://localhost:8080/"
        },
        "id": "98PHQKZLq8yY",
        "outputId": "955388ca-3a7d-46fb-df7e-554b97bbe29c"
      },
      "execution_count": 183,
      "outputs": [
        {
          "output_type": "stream",
          "name": "stdout",
          "text": [
            "79.98\n",
            "C\n"
          ]
        }
      ]
    }
  ]
}